{
  "nbformat": 4,
  "nbformat_minor": 0,
  "metadata": {
    "colab": {
      "provenance": [],
      "authorship_tag": "ABX9TyM/ZLoTWlNZiYjv0erTnKL7",
      "include_colab_link": true
    },
    "kernelspec": {
      "name": "python3",
      "display_name": "Python 3"
    },
    "language_info": {
      "name": "python"
    }
  },
  "cells": [
    {
      "cell_type": "markdown",
      "metadata": {
        "id": "view-in-github",
        "colab_type": "text"
      },
      "source": [
        "<a href=\"https://colab.research.google.com/github/mirali24/Automation-Python/blob/main/Excel_Report_Automation.ipynb\" target=\"_parent\"><img src=\"https://colab.research.google.com/assets/colab-badge.svg\" alt=\"Open In Colab\"/></a>"
      ]
    },
    {
      "cell_type": "markdown",
      "source": [
        "### **Automating an Excel Report with Python**"
      ],
      "metadata": {
        "id": "tKwdl6lqJfDA"
      }
    },
    {
      "cell_type": "code",
      "source": [
        "#mounting drive\n",
        "from google.colab import drive\n",
        "drive.mount('/content/drive')"
      ],
      "metadata": {
        "colab": {
          "base_uri": "https://localhost:8080/"
        },
        "id": "PVTBvbggamXF",
        "outputId": "a188b651-8853-44b5-c31a-b455a7db0ca0"
      },
      "execution_count": null,
      "outputs": [
        {
          "output_type": "stream",
          "name": "stdout",
          "text": [
            "Drive already mounted at /content/drive; to attempt to forcibly remount, call drive.mount(\"/content/drive\", force_remount=True).\n"
          ]
        }
      ]
    },
    {
      "cell_type": "code",
      "source": [
        "import pandas as pd\n",
        "import plotly.express as px\n",
        "import plotly.io as pio\n",
        "from openpyxl import load_workbook\n",
        "from openpyxl.styles import PatternFill, Border, Side, Alignment, Font\n",
        "\n",
        "#Function for automating the spreadsheet\n",
        "def automate_report(inputFilename, outputFilename):\n",
        "    df = pd.read_excel(inputFilename)\n",
        "\n",
        "    # Add a new column for Total Revenue\n",
        "    df['Total Sales'] = df['Unit Price'] * df['Order Quantity']\n",
        "    df['Total Cost'] = df['Unit Cost'] * df['Order Quantity']\n",
        "    df['Revenue'] = df['Total Sales'] - df['Total Cost']\n",
        "\n",
        "    # Create charts\n",
        "    fig_bar = px.bar(df, x='Sales Channel', y='Revenue', title='Revenue Per Channel',color='Sales Channel')\n",
        "    fig_bar.update_layout(\n",
        "    plot_bgcolor='white',\n",
        "    paper_bgcolor='lightgray',\n",
        "    shapes=[dict(\n",
        "        type='rect',\n",
        "        xref='paper',\n",
        "        yref='paper',\n",
        "        x0=0,\n",
        "        y0=0,\n",
        "        x1=1,\n",
        "        y1=1,\n",
        "        line=dict(color='black', width=2))],\n",
        "    width=500,\n",
        "    height=500\n",
        ")\n",
        "\n",
        "\n",
        "\n",
        "    # Create a pie chart for Sales Channel distribution\n",
        "    fig_pie = px.pie(df, names='Sales Channel', title='Sales Channel Distribution')\n",
        "\n",
        "    # Customize layout\n",
        "    fig_pie.update_layout(\n",
        "        plot_bgcolor='white',\n",
        "        paper_bgcolor='lightgray',\n",
        "        width=500,\n",
        "        height=500)\n",
        "\n",
        "\n",
        "\n",
        "\n",
        "    # Save the graphs as image files\n",
        "    pio.write_image(fig_bar, '/content/drive/MyDrive/automation_in_python/bar_graph.png')\n",
        "    pio.write_image(fig_pie, '/content/drive/MyDrive/automation_in_python/pie_chart.png')\n",
        "    writer = pd.ExcelWriter(outputFilename, engine='xlsxwriter')\n",
        "    df.to_excel(writer, index=False, sheet_name='Channel Data')\n",
        "    worksheet = writer.sheets['Channel Data']\n",
        "    worksheet.set_column('F:F', 12)\n",
        "    worksheet.insert_image('L1', '/content/drive/MyDrive/automation_in_python/bar_graph.png')\n",
        "    worksheet.insert_image('L30','/content/drive/MyDrive/automation_in_python/pie_chart.png')\n",
        "    # save the file\n",
        "    writer.close()\n",
        "\n",
        "#Function for automating the reports\n",
        "def automate_formatting(inputFilename, outputFilename):\n",
        "    # # load the Excel file\n",
        "    wb = load_workbook(inputFilename)\n",
        "    ws = wb.active\n",
        "\n",
        "    # # define the fill pattern to highlight the column\n",
        "    fill = PatternFill(start_color='FFFF00', end_color='FFFF00', fill_type='solid')\n",
        "\n",
        "    # highlight the 'Product' column of the sheet\n",
        "    for cell in ws['A:A']:\n",
        "        cell.fill = fill\n",
        "\n",
        "    # =========================Borders======================\n",
        "    # set a border around a specific range of cells\n",
        "    range_border = Border(left=Side(style='medium'),\n",
        "                        right=Side(style='medium'),\n",
        "                        top=Side(style='medium'),\n",
        "                        bottom=Side(style='medium'))\n",
        "\n",
        "    for row in ws.iter_rows(min_row=1, max_row=7992, min_col=1, max_col=ws.max_column):\n",
        "        for cell in row:\n",
        "            cell.border = range_border\n",
        "\n",
        "    # =====================column alignmnet====================\n",
        "    # # set the width of all columns to 20\n",
        "    for col in ws.columns:\n",
        "        ws.column_dimensions[col[0].column_letter].width = 20\n",
        "\n",
        "    # add some text to the worksheet and set it left-aligned\n",
        "    for row in ws.iter_rows(min_row=1, max_row=7992, min_col=1, max_col=ws.max_column):\n",
        "        for cell in row:\n",
        "            # cell.value = f'Text {cell.column}{cell.row}'\n",
        "            cell.alignment = Alignment(horizontal='left')\n",
        "\n",
        "    #=======================font styles===============\n",
        "    # set font styles for different rows\n",
        "    font_name = Font(name='Times New Roman', bold=True)\n",
        "\n",
        "    # set background color for the first row\n",
        "    fill = PatternFill(start_color='23C4ED', end_color='23C4ED', fill_type='solid')\n",
        "    for row in ws.iter_rows(min_row=1, max_row=1):\n",
        "        if row[0].row == 1:\n",
        "            for cell in row:\n",
        "                cell.fill = fill\n",
        "                cell.font = font_name\n",
        "\n",
        "    # save the workbook\n",
        "    wb.save(outputFilename)\n",
        "    wb.close()\n",
        "\n",
        "#Function for automating the pivot table\n",
        "def automate_pivot_table(inputFilename, outputFilename):\n",
        "    # Load the Excel file into a pandas DataFrame\n",
        "    # df = pd.read_excel(\"pivot_dataset.xlsx\")\n",
        "    df = pd.read_excel(inputFilename)\n",
        "\n",
        "    # Create a pivot table\n",
        "    pivot_df = pd.pivot_table(df, values='Total',\n",
        "                              index='Gender', columns='Payment', aggfunc='sum')\n",
        "\n",
        "    # Export the pivot table to an Excel file\n",
        "    pivot_df.to_excel(outputFilename, sheet_name='Sheet1', index=True)\n",
        "\n",
        "    # Create a Plotly figure\n",
        "    fig = px.imshow(pivot_df)\n",
        "\n",
        "    # Show the figure\n",
        "    fig.write_image('fig.png')"
      ],
      "metadata": {
        "id": "gabQ6M8hY1lp"
      },
      "execution_count": null,
      "outputs": []
    },
    {
      "cell_type": "code",
      "source": [
        "#passing my file named 'US_Regional_Sales_data.xlsx' as an input will create a new file named 'Salesreport.xlsx' as an output\n",
        "automate_report('/content/drive/MyDrive/automation_in_python/US_Regional_Sales_Data.xlsx', '/content/drive/MyDrive/automation_in_python/SalesReport.xlsx')\n",
        "#passing the 'Salesreport.xlsx' file generated using the above function will create a new formatted excel file named 'formattedReport.xlsx'\n",
        "automate_formatting('/content/drive/MyDrive/automation_in_python/SalesReport.xlsx', '/content/drive/MyDrive/automation_in_python/formattedReport.xlsx')\n",
        "#passing the file named 'Supermarket_sales.xlsx' will create a new file named pivotTable.xlsx\n",
        "automate_pivot_table('/content/drive/MyDrive/automation_in_python/supermarket_sales.xlsx', '/content/drive/MyDrive/automation_in_python/pivotTable.xlsx')"
      ],
      "metadata": {
        "id": "5vAay1djY9N2"
      },
      "execution_count": null,
      "outputs": []
    },
    {
      "cell_type": "markdown",
      "source": [
        "## Live Dash app showing automated Excel **reports**"
      ],
      "metadata": {
        "id": "2ywWhlnoopL1"
      }
    },
    {
      "cell_type": "code",
      "source": [
        "!pip install dash"
      ],
      "metadata": {
        "colab": {
          "base_uri": "https://localhost:8080/"
        },
        "id": "lMSPX1XSpxbq",
        "outputId": "e55a285d-8f4d-4e06-8267-9672416cf817"
      },
      "execution_count": null,
      "outputs": [
        {
          "output_type": "stream",
          "name": "stdout",
          "text": [
            "Collecting dash\n",
            "  Downloading dash-2.16.1-py3-none-any.whl (10.2 MB)\n",
            "\u001b[2K     \u001b[90m━━━━━━━━━━━━━━━━━━━━━━━━━━━━━━━━━━━━━━━━\u001b[0m \u001b[32m10.2/10.2 MB\u001b[0m \u001b[31m26.2 MB/s\u001b[0m eta \u001b[36m0:00:00\u001b[0m\n",
            "\u001b[?25hRequirement already satisfied: Flask<3.1,>=1.0.4 in /usr/local/lib/python3.10/dist-packages (from dash) (2.2.5)\n",
            "Requirement already satisfied: Werkzeug<3.1 in /usr/local/lib/python3.10/dist-packages (from dash) (3.0.2)\n",
            "Requirement already satisfied: plotly>=5.0.0 in /usr/local/lib/python3.10/dist-packages (from dash) (5.15.0)\n",
            "Collecting dash-html-components==2.0.0 (from dash)\n",
            "  Downloading dash_html_components-2.0.0-py3-none-any.whl (4.1 kB)\n",
            "Collecting dash-core-components==2.0.0 (from dash)\n",
            "  Downloading dash_core_components-2.0.0-py3-none-any.whl (3.8 kB)\n",
            "Collecting dash-table==5.0.0 (from dash)\n",
            "  Downloading dash_table-5.0.0-py3-none-any.whl (3.9 kB)\n",
            "Requirement already satisfied: importlib-metadata in /usr/local/lib/python3.10/dist-packages (from dash) (7.1.0)\n",
            "Requirement already satisfied: typing-extensions>=4.1.1 in /usr/local/lib/python3.10/dist-packages (from dash) (4.10.0)\n",
            "Requirement already satisfied: requests in /usr/local/lib/python3.10/dist-packages (from dash) (2.31.0)\n",
            "Collecting retrying (from dash)\n",
            "  Downloading retrying-1.3.4-py3-none-any.whl (11 kB)\n",
            "Requirement already satisfied: nest-asyncio in /usr/local/lib/python3.10/dist-packages (from dash) (1.6.0)\n",
            "Requirement already satisfied: setuptools in /usr/local/lib/python3.10/dist-packages (from dash) (67.7.2)\n",
            "Requirement already satisfied: Jinja2>=3.0 in /usr/local/lib/python3.10/dist-packages (from Flask<3.1,>=1.0.4->dash) (3.1.3)\n",
            "Requirement already satisfied: itsdangerous>=2.0 in /usr/local/lib/python3.10/dist-packages (from Flask<3.1,>=1.0.4->dash) (2.1.2)\n",
            "Requirement already satisfied: click>=8.0 in /usr/local/lib/python3.10/dist-packages (from Flask<3.1,>=1.0.4->dash) (8.1.7)\n",
            "Requirement already satisfied: tenacity>=6.2.0 in /usr/local/lib/python3.10/dist-packages (from plotly>=5.0.0->dash) (8.2.3)\n",
            "Requirement already satisfied: packaging in /usr/local/lib/python3.10/dist-packages (from plotly>=5.0.0->dash) (24.0)\n",
            "Requirement already satisfied: MarkupSafe>=2.1.1 in /usr/local/lib/python3.10/dist-packages (from Werkzeug<3.1->dash) (2.1.5)\n",
            "Requirement already satisfied: zipp>=0.5 in /usr/local/lib/python3.10/dist-packages (from importlib-metadata->dash) (3.18.1)\n",
            "Requirement already satisfied: charset-normalizer<4,>=2 in /usr/local/lib/python3.10/dist-packages (from requests->dash) (3.3.2)\n",
            "Requirement already satisfied: idna<4,>=2.5 in /usr/local/lib/python3.10/dist-packages (from requests->dash) (3.6)\n",
            "Requirement already satisfied: urllib3<3,>=1.21.1 in /usr/local/lib/python3.10/dist-packages (from requests->dash) (2.0.7)\n",
            "Requirement already satisfied: certifi>=2017.4.17 in /usr/local/lib/python3.10/dist-packages (from requests->dash) (2024.2.2)\n",
            "Requirement already satisfied: six>=1.7.0 in /usr/local/lib/python3.10/dist-packages (from retrying->dash) (1.16.0)\n",
            "Installing collected packages: dash-table, dash-html-components, dash-core-components, retrying, dash\n",
            "Successfully installed dash-2.16.1 dash-core-components-2.0.0 dash-html-components-2.0.0 dash-table-5.0.0 retrying-1.3.4\n"
          ]
        }
      ]
    },
    {
      "cell_type": "code",
      "source": [
        "from dash import Dash, html, dcc, Output, Input\n",
        "import plotly.express as px\n",
        "import pandas as pd\n",
        "import openpyxl\n",
        "\n",
        "df = pd.read_excel(\"/content/drive/MyDrive/automation_in_python/supermarket_sales.xlsx\")"
      ],
      "metadata": {
        "id": "konLJdFaZBGT"
      },
      "execution_count": null,
      "outputs": []
    },
    {
      "cell_type": "code",
      "source": [
        "#instantiating Dash\n",
        "app = Dash(__name__)\n",
        "#Defining the web layout\n",
        "app.layout=html.Div([\n",
        "    html.H1(\"Excel to Python App\"),\n",
        "    dcc.RadioItems(id='col-choice', options=['Gender','Customer type','City'], value='Gender'),\n",
        "    dcc.Graph(id='our-graph', figure={}),\n",
        "])"
      ],
      "metadata": {
        "id": "W8SMwAukZP42"
      },
      "execution_count": null,
      "outputs": []
    },
    {
      "cell_type": "code",
      "source": [
        "@app.callback(\n",
        "    Output('our-graph', 'figure'),\n",
        "    Input('col-choice', 'value')\n",
        ")\n",
        "def update_graphs(column_selected):\n",
        "    pivot_df = pd.pivot_table(df, values='Total', index=column_selected, columns='Payment', aggfunc='sum')\n",
        "    fig = px.imshow(pivot_df)\n",
        "    return fig"
      ],
      "metadata": {
        "id": "3L4Z3X26ZT1e"
      },
      "execution_count": null,
      "outputs": []
    },
    {
      "cell_type": "code",
      "source": [
        "if __name__=='__main__':\n",
        "    app.run_server()"
      ],
      "metadata": {
        "id": "aAG63QcoZZDS",
        "colab": {
          "base_uri": "https://localhost:8080/",
          "height": 671
        },
        "outputId": "f468ef1f-1130-4969-9011-2255cd15971b"
      },
      "execution_count": null,
      "outputs": [
        {
          "output_type": "display_data",
          "data": {
            "text/plain": [
              "<IPython.core.display.Javascript object>"
            ],
            "application/javascript": [
              "(async (port, path, width, height, cache, element) => {\n",
              "    if (!google.colab.kernel.accessAllowed && !cache) {\n",
              "      return;\n",
              "    }\n",
              "    element.appendChild(document.createTextNode(''));\n",
              "    const url = await google.colab.kernel.proxyPort(port, {cache});\n",
              "    const iframe = document.createElement('iframe');\n",
              "    iframe.src = new URL(path, url).toString();\n",
              "    iframe.height = height;\n",
              "    iframe.width = width;\n",
              "    iframe.style.border = 0;\n",
              "    iframe.allow = [\n",
              "        'accelerometer',\n",
              "        'autoplay',\n",
              "        'camera',\n",
              "        'clipboard-read',\n",
              "        'clipboard-write',\n",
              "        'gyroscope',\n",
              "        'magnetometer',\n",
              "        'microphone',\n",
              "        'serial',\n",
              "        'usb',\n",
              "        'xr-spatial-tracking',\n",
              "    ].join('; ');\n",
              "    element.appendChild(iframe);\n",
              "  })(8050, \"/\", \"100%\", 650, false, window.element)"
            ]
          },
          "metadata": {}
        }
      ]
    }
  ]
}