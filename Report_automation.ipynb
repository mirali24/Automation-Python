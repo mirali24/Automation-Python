{
  "nbformat": 4,
  "nbformat_minor": 0,
  "metadata": {
    "colab": {
      "provenance": []
    },
    "kernelspec": {
      "name": "python3",
      "display_name": "Python 3"
    },
    "language_info": {
      "name": "python"
    }
  },
  "cells": [
    {
      "cell_type": "code",
      "source": [
        "from google.colab import drive\n",
        "drive.mount('/content/drive')"
      ],
      "metadata": {
        "id": "4w0qkustEIes",
        "colab": {
          "base_uri": "https://localhost:8080/"
        },
        "outputId": "d68e65b7-3adb-4f1e-d10e-06d972428ff4"
      },
      "execution_count": null,
      "outputs": [
        {
          "output_type": "stream",
          "name": "stdout",
          "text": [
            "Drive already mounted at /content/drive; to attempt to forcibly remount, call drive.mount(\"/content/drive\", force_remount=True).\n"
          ]
        }
      ]
    },
    {
      "cell_type": "code",
      "source": [
        "!pip install docxtpl\n",
        "!pip install docx2pdf"
      ],
      "metadata": {
        "colab": {
          "base_uri": "https://localhost:8080/"
        },
        "id": "lybAt0UK9H_i",
        "outputId": "5ab5efb5-5bd0-42c5-e332-98a8c70af6ff"
      },
      "execution_count": null,
      "outputs": [
        {
          "output_type": "stream",
          "name": "stdout",
          "text": [
            "Requirement already satisfied: docxtpl in /usr/local/lib/python3.10/dist-packages (0.16.8)\n",
            "Requirement already satisfied: six in /usr/local/lib/python3.10/dist-packages (from docxtpl) (1.16.0)\n",
            "Requirement already satisfied: python-docx in /usr/local/lib/python3.10/dist-packages (from docxtpl) (1.1.0)\n",
            "Requirement already satisfied: docxcompose in /usr/local/lib/python3.10/dist-packages (from docxtpl) (1.4.0)\n",
            "Requirement already satisfied: jinja2 in /usr/local/lib/python3.10/dist-packages (from docxtpl) (3.1.3)\n",
            "Requirement already satisfied: lxml in /usr/local/lib/python3.10/dist-packages (from docxtpl) (4.9.4)\n",
            "Requirement already satisfied: setuptools in /usr/local/lib/python3.10/dist-packages (from docxcompose->docxtpl) (67.7.2)\n",
            "Requirement already satisfied: babel in /usr/local/lib/python3.10/dist-packages (from docxcompose->docxtpl) (2.14.0)\n",
            "Requirement already satisfied: typing-extensions in /usr/local/lib/python3.10/dist-packages (from python-docx->docxtpl) (4.10.0)\n",
            "Requirement already satisfied: MarkupSafe>=2.0 in /usr/local/lib/python3.10/dist-packages (from jinja2->docxtpl) (2.1.5)\n",
            "Requirement already satisfied: docx2pdf in /usr/local/lib/python3.10/dist-packages (0.1.8)\n",
            "Requirement already satisfied: tqdm>=4.41.0 in /usr/local/lib/python3.10/dist-packages (from docx2pdf) (4.66.2)\n"
          ]
        }
      ]
    },
    {
      "cell_type": "code",
      "source": [
        "from docxtpl import DocxTemplate, InlineImage\n",
        "import pandas as pd\n",
        "import matplotlib.pyplot as plt\n",
        "import datetime as dt\n",
        "\n",
        "\n",
        "\n",
        "def generate_sales_report(sales_file_path, output_file_path):\n",
        "    # Load your dataset\n",
        "    df = pd.read_excel(sales_file_path)\n",
        "\n",
        "    # Calculate revenue based on unit price and number of units sold\n",
        "    df['Revenue'] = df['Price per unit'] * df['Units Sold']\n",
        "\n",
        "    # Sort the dataset by revenue and select the top 10 items\n",
        "    salesRows = df.sort_values(by='Revenue', ascending=False).head(10).reset_index(drop=True)\n",
        "\n",
        "    # Extract the names of the top 3 items\n",
        "    topItems = salesRows['Product'].head(3).tolist()\n",
        "\n",
        "    # Create a bar chart for the sales trend\n",
        "    fig, ax = plt.subplots()\n",
        "    ax.bar(salesRows['Product'], salesRows['Revenue'])\n",
        "    plt.xticks(rotation=45, ha='right')  # Rotate x-axis labels for better readability\n",
        "    plt.tight_layout()\n",
        "    plt.title('Products by Revenue')\n",
        "\n",
        "    # Save the bar chart as an image\n",
        "    trendImgPath = \"/content/drive/MyDrive/automation_in_python/trendImg.png\"\n",
        "    fig.savefig(trendImgPath)\n",
        "\n",
        "    # Get the current date\n",
        "    today = dt.datetime.now().strftime(\"%d-%b-%Y\")\n",
        "\n",
        "    # Load the report template\n",
        "    doc = DocxTemplate(\"/content/drive/MyDrive/automation_in_python/reportTmpl.docx\")\n",
        "\n",
        "    # Create an empty list to store the data for the sales table\n",
        "    salesTblRows = []\n",
        "\n",
        "    # Iterate over the rows of the DataFrame\n",
        "    for index, row in df.iterrows():\n",
        "        # Extract the relevant information for each row\n",
        "        sNo = index + 1\n",
        "        name = row['Product']\n",
        "        cPu = row['Price per unit']\n",
        "        nUnits = row['Units Sold']\n",
        "        revenue = row['Revenue']\n",
        "\n",
        "        # Append a dictionary containing the extracted information to the salesTblRows list\n",
        "        salesTblRows.append({\"sNo\": sNo, \"name\": name, \"cPu\": cPu, \"nUnits\": nUnits, \"revenue\": revenue})\n",
        "\n",
        "    # Define the context for the report template\n",
        "    context = {\n",
        "        \"reportDtStr\": today,\n",
        "        \"salesTblRows\": salesTblRows,\n",
        "        \"topItemsRows\": topItems,\n",
        "        \"trendImg\": InlineImage(doc, \"/content/drive/MyDrive/automation_in_python/trendImg.png\")\n",
        "    }\n",
        "\n",
        "    # Render the document with the context\n",
        "    doc.render(context)\n",
        "\n",
        "    # Save the rendered document\n",
        "    doc.save(output_file_path)\n",
        "\n",
        "#test\n",
        "generate_sales_report(\"/content/drive/MyDrive/automation_in_python/data.xlsx\",\n",
        "                      \"/content/drive/MyDrive/automation_in_python/report.docx\")"
      ],
      "metadata": {
        "colab": {
          "base_uri": "https://localhost:8080/",
          "height": 494
        },
        "id": "dFOyLTzYER5O",
        "outputId": "511e4128-e301-4ea2-c5f2-9bd4062d2a35"
      },
      "execution_count": null,
      "outputs": [
        {
          "output_type": "display_data",
          "data": {
            "text/plain": [
              "<Figure size 640x480 with 1 Axes>"
            ],
            "image/png": "[encoded data removed]"
          },
          "metadata": {}
        }
      ]
    }
  ]
}